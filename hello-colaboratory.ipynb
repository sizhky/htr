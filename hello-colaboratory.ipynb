{
 "cells": [
  {
   "cell_type": "code",
   "execution_count": 1,
   "metadata": {
    "ExecuteTime": {
     "end_time": "2018-09-26T12:41:50.179072Z",
     "start_time": "2018-09-26T12:41:46.389495Z"
    },
    "collapsed": true
   },
   "outputs": [],
   "source": [
    "import tensorflow as tf\n",
    "config = tf.ConfigProto()\n",
    "config.gpu_options.allow_growth=True\n",
    "sess = tf.Session(config=config)"
   ]
  },
  {
   "cell_type": "code",
   "execution_count": 2,
   "metadata": {
    "ExecuteTime": {
     "end_time": "2018-09-26T12:41:50.890054Z",
     "start_time": "2018-09-26T12:41:50.262597Z"
    },
    "colab": {
     "base_uri": "https://localhost:8080/",
     "height": 34
    },
    "colab_type": "code",
    "id": "2t5FBo9ZgScr",
    "outputId": "1a479582-ee0e-4c1d-8b77-1f9151b2f085"
   },
   "outputs": [
    {
     "name": "stderr",
     "output_type": "stream",
     "text": [
      "Using TensorFlow backend.\n"
     ]
    }
   ],
   "source": [
    "# !pip install -q cairocffi editdistance\n",
    "# !apt install -q libcairo2-dev\n",
    "\n",
    "# !apt install -q graphviz\n",
    "# !pip install -q pydot\n",
    "# !pip install -q matplotlib graphviz pydot\n",
    "\n",
    "import os\n",
    "import itertools\n",
    "import codecs\n",
    "import re\n",
    "import datetime\n",
    "import numpy as np\n",
    "from scipy import ndimage\n",
    "# import pylab\n",
    "import matplotlib.pyplot as plt\n",
    "from keras import backend as K\n",
    "from keras.layers.convolutional import Conv2D, MaxPooling2D\n",
    "from keras.layers import Input, Dense, Activation\n",
    "from keras.layers import Reshape, Lambda, Dropout\n",
    "from keras.layers.merge import add, concatenate\n",
    "from keras.models import Model\n",
    "from keras.layers.recurrent import GRU\n",
    "from keras.optimizers import SGD\n",
    "from keras.utils.data_utils import get_file\n",
    "from keras.preprocessing import image\n",
    "import keras.callbacks\n",
    "\n",
    "OUTPUT_DIR = 'image_ocr'\n",
    "\n",
    "# character classes and matching regex filter\n",
    "regex = r'^[a-z ]+$'\n",
    "alphabet = u'abcdefghijklmnopqrstuvwxyz '\n",
    "vocab = '0123456789'\n",
    "\n",
    "np.random.seed(55)\n",
    "\n",
    "# Reverse translation of numerical classes back to characters\n",
    "def labels_to_text(labels):\n",
    "    ret = []\n",
    "    for c in labels:\n",
    "        if c == len(vocab):  # CTC Blank\n",
    "            ret.append(\"\")\n",
    "        else:\n",
    "            ret.append(vocab[c])\n",
    "    return \"\".join(ret)\n",
    "\n",
    "# the actual loss calc occurs here despite it not being\n",
    "# an internal Keras loss function\n",
    "\n",
    "def ctc_lambda_func(args):\n",
    "    y_pred, labels, input_length, label_length = args\n",
    "    # the 2 is critical here since the first couple outputs of the RNN\n",
    "    # tend to be garbage:\n",
    "    y_pred = y_pred[:, 2:, :]\n",
    "    return K.ctc_batch_cost(labels, y_pred, input_length, label_length)\n",
    "\n",
    "\n",
    "# For a real OCR application, this should be beam search with a dictionary\n",
    "# and language model.  For this example, best path is sufficient.\n",
    "\n",
    "def decode_batch(test_func, word_batch):\n",
    "    out = test_func([word_batch])[0]\n",
    "    ret = []\n",
    "    for j in range(out.shape[0]):\n",
    "        out_best = list(np.argmax(out[j, 2:], 1))\n",
    "        out_best = [k for k, g in itertools.groupby(out_best)]\n",
    "        outstr = labels_to_text(out_best)\n",
    "        ret.append(outstr)\n",
    "    return ret\n"
   ]
  },
  {
   "cell_type": "code",
   "execution_count": 3,
   "metadata": {
    "ExecuteTime": {
     "end_time": "2018-09-26T12:42:13.112444Z",
     "start_time": "2018-09-26T12:41:50.955685Z"
    },
    "colab": {
     "base_uri": "https://localhost:8080/",
     "height": 806
    },
    "colab_type": "code",
    "id": "TNk29D0xgSzO",
    "outputId": "b7859d4a-ea0d-4381-9093-000cfdc83bc5"
   },
   "outputs": [
    {
     "name": "stdout",
     "output_type": "stream",
     "text": [
      "__________________________________________________________________________________________________\n",
      "Layer (type)                    Output Shape         Param #     Connected to                     \n",
      "==================================================================================================\n",
      "the_input (InputLayer)          (None, 150, 28, 1)   0                                            \n",
      "__________________________________________________________________________________________________\n",
      "input_dropout (Dropout)         (None, 150, 28, 1)   0           the_input[0][0]                  \n",
      "__________________________________________________________________________________________________\n",
      "conv1 (Conv2D)                  (None, 150, 28, 64)  640         input_dropout[0][0]              \n",
      "__________________________________________________________________________________________________\n",
      "max1 (MaxPooling2D)             (None, 75, 14, 64)   0           conv1[0][0]                      \n",
      "__________________________________________________________________________________________________\n",
      "conv2 (Conv2D)                  (None, 75, 14, 128)  73856       max1[0][0]                       \n",
      "__________________________________________________________________________________________________\n",
      "max2 (MaxPooling2D)             (None, 37, 7, 128)   0           conv2[0][0]                      \n",
      "__________________________________________________________________________________________________\n",
      "conv3 (Conv2D)                  (None, 37, 7, 256)   295168      max2[0][0]                       \n",
      "__________________________________________________________________________________________________\n",
      "conv4 (Conv2D)                  (None, 37, 7, 256)   590080      conv3[0][0]                      \n",
      "__________________________________________________________________________________________________\n",
      "reshape (Reshape)               (None, 37, 1792)     0           conv4[0][0]                      \n",
      "__________________________________________________________________________________________________\n",
      "dense1 (Dense)                  (None, 37, 32)       57376       reshape[0][0]                    \n",
      "__________________________________________________________________________________________________\n",
      "gru1 (GRU)                      (None, 37, 512)      837120      dense1[0][0]                     \n",
      "__________________________________________________________________________________________________\n",
      "gru1_b (GRU)                    (None, 37, 512)      837120      dense1[0][0]                     \n",
      "__________________________________________________________________________________________________\n",
      "add_1 (Add)                     (None, 37, 512)      0           gru1[0][0]                       \n",
      "                                                                 gru1_b[0][0]                     \n",
      "__________________________________________________________________________________________________\n",
      "gru2 (GRU)                      (None, 37, 512)      1574400     add_1[0][0]                      \n",
      "__________________________________________________________________________________________________\n",
      "gru2_b (GRU)                    (None, 37, 512)      1574400     add_1[0][0]                      \n",
      "__________________________________________________________________________________________________\n",
      "concatenate_1 (Concatenate)     (None, 37, 1024)     0           gru2[0][0]                       \n",
      "                                                                 gru2_b[0][0]                     \n",
      "__________________________________________________________________________________________________\n",
      "dense2 (Dense)                  (None, 37, 64)       65600       concatenate_1[0][0]              \n",
      "__________________________________________________________________________________________________\n",
      "dense3 (Dense)                  (None, 37, 11)       715         dense2[0][0]                     \n",
      "__________________________________________________________________________________________________\n",
      "softmax (Activation)            (None, 37, 11)       0           dense3[0][0]                     \n",
      "==================================================================================================\n",
      "Total params: 5,906,475\n",
      "Trainable params: 5,906,475\n",
      "Non-trainable params: 0\n",
      "__________________________________________________________________________________________________\n"
     ]
    }
   ],
   "source": [
    "from keras.optimizers import *\n",
    "\n",
    "vocab = '0123456789'\n",
    "img_h = 28\n",
    "img_w = 150\n",
    "words_per_epoch = 16000\n",
    "val_split = 0.2\n",
    "val_words = int(words_per_epoch * (val_split))\n",
    "\n",
    "# Network parameters\n",
    "conv_filters = 64\n",
    "kernel_size = (3, 3)\n",
    "pool_size = 2\n",
    "time_dense_size = 32\n",
    "rnn_size = 512\n",
    "minibatch_size = 32\n",
    "\n",
    "if K.image_data_format() == 'channels_first':\n",
    "    input_shape = (1, img_w, img_h)\n",
    "else:\n",
    "    input_shape = (img_w, img_h, 1)\n",
    "\n",
    "act = 'relu'\n",
    "input_data = Input(name='the_input', shape=input_shape, dtype='float32')\n",
    "inner = Dropout(0.2, name='input_dropout')(input_data)\n",
    "inner = Conv2D(conv_filters, kernel_size, padding='same',\n",
    "               activation=act, kernel_initializer='he_normal',\n",
    "               name='conv1')(inner)\n",
    "inner = MaxPooling2D(pool_size=(pool_size, pool_size), name='max1')(inner)\n",
    "inner = Conv2D(conv_filters*2, kernel_size, padding='same',\n",
    "               activation=act, kernel_initializer='he_normal',\n",
    "               name='conv2')(inner)\n",
    "inner = MaxPooling2D(pool_size=(pool_size, pool_size), name='max2')(inner)\n",
    "inner = Conv2D(conv_filters*4, kernel_size, padding='same',\n",
    "               activation=act, kernel_initializer='he_normal',\n",
    "               name='conv3')(inner)\n",
    "# inner = MaxPooling2D(pool_size=(pool_size, pool_size), name='max3')(inner)\n",
    "inner = Conv2D(conv_filters*4, kernel_size, padding='same',\n",
    "               activation=act, kernel_initializer='he_normal',\n",
    "               name='conv4')(inner)\n",
    "# inner = MaxPooling2D(pool_size=(pool_size, pool_size), name='max4')(inner)\n",
    "\n",
    "conv_to_rnn_dims = (img_w // (pool_size ** 2), (img_h // (pool_size ** 2)) * conv_filters*4)\n",
    "inner = Reshape(target_shape=conv_to_rnn_dims, name='reshape')(inner)\n",
    "\n",
    "# cuts down input size going into RNN:\n",
    "inner = Dense(time_dense_size, activation=act, name='dense1')(inner)\n",
    "\n",
    "# Two layers of bidirectional GRUs\n",
    "# GRU seems to work as well, if not better than LSTM:\n",
    "gru_1 = GRU(rnn_size, return_sequences=True, kernel_initializer='he_normal', name='gru1')(inner)\n",
    "gru_1b = GRU(rnn_size, return_sequences=True, go_backwards=True, kernel_initializer='he_normal', name='gru1_b')(inner)\n",
    "gru1_merged = add([gru_1, gru_1b])\n",
    "gru_2 = GRU(rnn_size, return_sequences=True, kernel_initializer='he_normal', name='gru2')(gru1_merged)\n",
    "gru_2b = GRU(rnn_size, return_sequences=True, go_backwards=True, kernel_initializer='he_normal', name='gru2_b')(gru1_merged)\n",
    "\n",
    "# transforms RNN output to character activations:\n",
    "inner = Dense(64, kernel_initializer='he_normal',\n",
    "              name='dense2')(concatenate([gru_2, gru_2b]))\n",
    "inner = Dense(len(vocab)+1, kernel_initializer='he_normal',\n",
    "              name='dense3')(inner)\n",
    "y_pred = Activation('softmax', name='softmax')(inner)\n",
    "Model(inputs=input_data, outputs=y_pred).summary()\n",
    "\n",
    "labels = Input(name='the_labels', shape=[10], dtype='float32')\n",
    "input_length = Input(name='input_length', shape=[1], dtype='int64')\n",
    "label_length = Input(name='label_length', shape=[1], dtype='int64')\n",
    "# Keras doesn't currently support loss funcs with extra parameters\n",
    "# so CTC loss is implemented in a lambda layer\n",
    "loss_out = Lambda(ctc_lambda_func, output_shape=(1,), name='ctc')([y_pred, labels, input_length, label_length])\n",
    "\n",
    "# clipnorm seems to speeds up convergence\n",
    "opt = RMSprop(lr=0.002, decay=1e-6)\n",
    "\n",
    "model = Model(inputs=[input_data, labels, input_length, label_length], outputs=loss_out)\n",
    "\n",
    "model.compile(loss={'ctc': lambda y_true, y_pred: y_pred}, optimizer=opt)"
   ]
  },
  {
   "cell_type": "code",
   "execution_count": 4,
   "metadata": {
    "ExecuteTime": {
     "end_time": "2018-09-26T12:42:13.232769Z",
     "start_time": "2018-09-26T12:42:13.131839Z"
    },
    "colab": {},
    "colab_type": "code",
    "collapsed": true,
    "id": "O-HFw6MVgUNq"
   },
   "outputs": [],
   "source": [
    "from keras.datasets import mnist\n",
    "import random\n",
    "from scipy import misc\n",
    "\n",
    "def build_synth_data1(data,labels,n,h=img_h,w=img_w):\n",
    "    \n",
    "    #Define synthetic image dimensions\n",
    "    synth_img_height = h\n",
    "    synth_img_width = w\n",
    "    dataset_size = n\n",
    "    #Define synthetic data\n",
    "    synth_data = np.ndarray(shape=(n,synth_img_height,synth_img_width),\n",
    "                           dtype=np.float32)\n",
    "    \n",
    "    #Define synthetic labels\n",
    "    synth_labels = [] \n",
    "    \n",
    "    #For a loop till the size of the synthetic dataset\n",
    "    for i in range(0,dataset_size):\n",
    "        \n",
    "        #Pick a random number of digits to be in the dataset\n",
    "        num_digits = 10\n",
    "        \n",
    "        #Randomly sampling indices to extract digits + labels afterwards\n",
    "        s_indices = [random.randint(0,len(data)-1) for p in range(0,num_digits)]\n",
    "        \n",
    "        #stitch images together\n",
    "        new_image = np.hstack([misc.imresize(cropped(X_train[index]),(28,15)) for index in s_indices])\n",
    "        #stitch the labels together\n",
    "        new_label =  [y_train[index] for index in s_indices]\n",
    "        \n",
    "        #Resize image\n",
    "        new_image = misc.imresize(255-new_image,(h,w))\n",
    "        \n",
    "        #Assign the image to synth_data\n",
    "        synth_data[i,:,:] = new_image\n",
    "        \n",
    "        #Assign the label to synth_data\n",
    "        synth_labels.append(tuple(new_label))\n",
    "        \n",
    "    #Return the synthetic dataset\n",
    "    return synth_data[:,:,:,None]/255.0, synth_labels\n",
    "  \n",
    "def cropped(image):\n",
    "    image2 = image.copy()\n",
    "    a = random.randint(2,9)#\n",
    "    b = random.randint(2,9)#\n",
    "    image = image[:,a:(28-b)]\n",
    "    return image\n",
    "  \n",
    "  "
   ]
  },
  {
   "cell_type": "code",
   "execution_count": 5,
   "metadata": {
    "ExecuteTime": {
     "end_time": "2018-09-26T12:42:15.487509Z",
     "start_time": "2018-09-26T12:42:13.254892Z"
    },
    "colab": {},
    "colab_type": "code",
    "collapsed": true,
    "id": "tAmbn-Uzg90s"
   },
   "outputs": [],
   "source": [
    "from keras.datasets import mnist\n",
    "import random\n",
    "from scipy import misc\n",
    "  \n",
    "\n",
    "def isolateTheDigit(img):\n",
    "    # gray1 = cv2.cvtColor(img, cv2.COLOR_BGR2GRAY)\n",
    "    gray1 = img\n",
    "    im_bw = cv2.threshold(gray1, 5, 1, cv2.THRESH_BINARY)[1]\n",
    "    h,w=im_bw.shape\n",
    "    IsdigitStarted=0\n",
    "    digit_start_left=0\n",
    "    digit_end_right=w\n",
    "    \n",
    "    for l in range(im_bw.shape[1]):\n",
    "        #print(l,white_count(im_bw,l))\n",
    "        if white_count_col(im_bw,l)==0 and IsdigitStarted!=0:\n",
    "            #('digit_end')\n",
    "            digit_end_right=l\n",
    "            break\n",
    "        if white_count_col(im_bw,l)>0 and IsdigitStarted==0:\n",
    "            #print('digit_start')\n",
    "            digit_start_left=l\n",
    "            IsdigitStarted=1\n",
    "    \n",
    "    \n",
    "    IsdigitStarted=0\n",
    "    digit_start_top,digit_end_bottom=0,28\n",
    "    #print(image1,im_bw.shape)\n",
    "    for l in range(im_bw.shape[0]):\n",
    "        #print(l,white_count(im_bw,l))\n",
    "        if white_count_row(im_bw,l)==0 and IsdigitStarted!=0:\n",
    "            #print('digit_end',l)\n",
    "            digit_end_bottom=l\n",
    "            break\n",
    "        if white_count_row(im_bw,l)>0 and IsdigitStarted==0:\n",
    "            #print('digit_start',l)\n",
    "            digit_start_top=l\n",
    "            IsdigitStarted=1\n",
    "    #print(digit_start_top,digit_end_bottom,digit_start_left,digit_end_right)\n",
    "    \n",
    "    IsolatedDigit=gray1[digit_start_top:digit_end_bottom,digit_start_left:digit_end_right]\n",
    "    return IsolatedDigit\n",
    "\n",
    "\n",
    "def VerticalOccupation(DigitFrame,occupationPercentage, space_from_top):\n",
    "    h,w=DigitFrame.shape\n",
    "    resized_image = cv2.resize(DigitFrame, (w, int(28*occupationPercentage)))\n",
    "    h,w=resized_image.shape\n",
    "    LargerFrame=np.zeros((28,w))\n",
    "    leftoverPixels=28-h\n",
    "    top_space=int(space_from_top*leftoverPixels)\n",
    "    LargerFrame[top_space:top_space+h,:]=resized_image\n",
    "    return LargerFrame\n",
    "\n",
    "\n",
    "def HorizontalOccupation(DigitFrame,occupationPercentage, space_from_left):\n",
    "    h,w=DigitFrame.shape\n",
    "    resized_image = cv2.resize(DigitFrame, (int(28*occupationPercentage),h))\n",
    "    h,w=resized_image.shape\n",
    "    LargerFrame=np.zeros((h,28))\n",
    "    leftoverPixels=28-w\n",
    "    left_space=int(space_from_left*leftoverPixels)\n",
    "    LargerFrame[:,left_space:left_space+w]=resized_image\n",
    "    return LargerFrame\n",
    "\n",
    "\n",
    "def addEdgeNoise2(img,edge_type):\n",
    "    h,w=img.shape\n",
    "    HorEdge=np.full((random.randint(1,2),w),255)\n",
    "    VertEdge=np.full((h,random.randint(2,5)),255)\n",
    "    h_e=HorEdge.shape[0]\n",
    "    v_e=VertEdge.shape[1]\n",
    "    if edge_type=='up':\n",
    "        x=random.choice([0,0,0,0,0,1,1,1,1,2,2,3])\n",
    "        img[x:x+h_e,:]=HorEdge\n",
    "    elif edge_type=='down':\n",
    "        x1=random.choice([h-1,h-1,h,h,h,h])\n",
    "        img[x1-h_e:x1,:]=HorEdge\n",
    "    elif edge_type=='left':\n",
    "        y=random.choice([0,0,0,0,0,1,1,1,1,2,2,3])\n",
    "        img[:,y:y+v_e]=VertEdge\n",
    "    elif edge_type=='right':\n",
    "        y1=random.choice([w-10,w-10,w-7,w-15,w-19])\n",
    "        img[:,y1-v_e:y1]=VertEdge\n",
    "    else:\n",
    "        pass\n",
    "    \n",
    "    return img\n",
    "  \n",
    "def white_count_col(img_bw,colNum):\n",
    "    h,w=img_bw.shape\n",
    "    wc=0\n",
    "    for i in range(h):\n",
    "        if img_bw[i,colNum]==1:\n",
    "            wc=wc+1\n",
    "    return wc\n",
    "  \n",
    "def white_count_row(img_bw,rowNum):\n",
    "    h,w=img_bw.shape\n",
    "    wc=0\n",
    "    for i in range(w):\n",
    "        if img_bw[rowNum,i]==1:\n",
    "            wc=wc+1\n",
    "    return wc\n",
    "  \n",
    "def build_synth_data2(data,y_labels,n,h=img_h,w=img_w):\n",
    "\n",
    "    #Define synthetic image dimensions\n",
    "    synth_img_height = h\n",
    "    synth_img_width = w\n",
    "    dataset_size = n\n",
    "    #Define synthetic data\n",
    "    synth_data = np.ndarray(shape=(n,synth_img_height,synth_img_width),\n",
    "                           dtype=np.float32)\n",
    "    \n",
    "    #Define synthetic labels\n",
    "    synth_labels = [] \n",
    "    positions = []\n",
    "    #For a loop till the size of the synthetic dataset\n",
    "    for d_sz in range(n):\n",
    "        cutOutDigits=[]\n",
    "        spacings=[]\n",
    "        labels=[]\n",
    "        \n",
    "        for i in range(9):\n",
    "            spacing=random.choice([0,0,0,0,0,0,0,0,0,1,2,3,4,8,10,12,15])\n",
    "            spacings.append(np.zeros((28,int(spacing))))\n",
    "\n",
    "        for i in range(10):\n",
    "            index=random.randint(0,len(data)-1)\n",
    "            im1=data[index]\n",
    "            labels.append(y_labels[index])\n",
    "            cutOutDigit=isolateTheDigit(im1)\n",
    "            occupationPercentageVert=0.1*random.randint(7,10)\n",
    "            occupationPercentageHor=1\n",
    "            space_from_top=0.1*random.randint(0,6)\n",
    "            space_from_left=0\n",
    "            VerticallyRandomized=VerticalOccupation(cutOutDigit,occupationPercentageVert, space_from_top)\n",
    "            BothSideRandomized=HorizontalOccupation(VerticallyRandomized,occupationPercentageVert, space_from_left)\n",
    "            cutOutDigits.append(VerticallyRandomized)\n",
    "            \n",
    "        spacing_left=np.zeros((28,random.randint(50,100)))\n",
    "        spacing_right=np.zeros((28,random.randint(30,100)))\n",
    "        \n",
    "        final=np.concatenate((spacing_left,cutOutDigits[0],spacings[0],cutOutDigits[1],spacings[1],cutOutDigits[2],spacings[2],cutOutDigits[3],spacings[3],cutOutDigits[4],spacings[4],cutOutDigits[5],spacings[5],cutOutDigits[6],spacings[6],cutOutDigits[7],spacings[7],cutOutDigits[8],spacings[8],cutOutDigits[9],spacing_right),axis=1)\n",
    "        sh = final.shape[1]\n",
    "        spacing_top = np.zeros((random.randint(5,20),sh))\n",
    "        spacing_bot = np.zeros((random.randint(5,10),sh))\n",
    "        final=np.concatenate((spacing_top, final, spacing_bot))\n",
    "        sh1 = final.shape[0]\n",
    "        positions.append((w*spacing_left.shape[1]//sh, w*spacing_right.shape[1]//sh, h*spacing_top.shape[0]//sh1, h*spacing_bot.shape[0]//sh1))\n",
    "        edge_list=['up','down','left','right']\n",
    "        for i in range(len(edge_list)):\n",
    "            if random.randint(0,1):\n",
    "                final=addEdgeNoise2(final,edge_list[i])\n",
    "        final=255-final\n",
    "\n",
    "        font                   = cv2.FONT_HERSHEY_SIMPLEX\n",
    "        position = (random.randint(10,15),random.randint(10,15))\n",
    "        fontScale              = 0.5\n",
    "        fontColor              = (0,0)\n",
    "        lineType               = 2\n",
    "\n",
    "        cv2.putText(final,\"NPI#:\", \n",
    "            position, \n",
    "            font, \n",
    "            fontScale,\n",
    "            fontColor,\n",
    "            lineType)\n",
    "\n",
    "        noise_factor = random.choice([0.01,0.02,0.03])\n",
    "        mask = final==0\n",
    "        c = np.count_nonzero(mask)\n",
    "        threshold_prob = noise_factor * 100.\n",
    "        nums = np.random.randint(1,100, c)\n",
    "        vals = np.where(nums <= threshold_prob, np.random.randint(1,100, c) , 0)\n",
    "        final[mask] = vals\n",
    "\n",
    "        final = cv2.resize(final,(w,h))\n",
    "\n",
    "            #Assign the image to synth_data\n",
    "        synth_data[d_sz,:,:] = final\n",
    "        \n",
    "        #Assign the label to synth_data\n",
    "        synth_labels.append(labels)\n",
    "    abs_bb_positions = np.array(positions)\n",
    "    pad = 2\n",
    "    abs_bb_positions -= pad\n",
    "    \n",
    "    rel_bb_positions = np.zeros_like(abs_bb_positions, dtype=float)\n",
    "    rel_bb_positions[:,:2] = abs_bb_positions[:,:2]/w\n",
    "    rel_bb_positions[:,2:] = abs_bb_positions[:,2:]/h\n",
    "    \n",
    "    xywh = np.zeros_like(abs_bb_positions, dtype=float)\n",
    "    xywh[:,0] = rel_bb_positions[:,0]\n",
    "    xywh[:,1] = rel_bb_positions[:,2]\n",
    "    xywh[:,2] = 1-rel_bb_positions[:,1]-rel_bb_positions[:,0]\n",
    "    xywh[:,3] = 1-rel_bb_positions[:,3]-rel_bb_positions[:,2]\n",
    "\n",
    "    #Return the synthetic dataset\n",
    "    return synth_data[:,:,:,None]/255.0, synth_labels#, abs_bb_positions, rel_bb_positions, xywh\n"
   ]
  },
  {
   "cell_type": "code",
   "execution_count": 6,
   "metadata": {
    "ExecuteTime": {
     "end_time": "2018-09-26T12:42:15.519211Z",
     "start_time": "2018-09-26T12:42:15.504784Z"
    },
    "colab": {},
    "colab_type": "code",
    "collapsed": true,
    "id": "Z2rGZomMgZAA"
   },
   "outputs": [],
   "source": [
    "def data(x, y):\n",
    "    #y_ = np.ones((bs, 16))\n",
    "    #y_[:,:10] = y\n",
    "    y = np.array([[int(a) for a in b] for b in y])\n",
    "    inputs = {\n",
    "        'the_input': x.transpose(0,2,1,3),\n",
    "        'the_labels': y,\n",
    "        'input_length': np.array([np.array([35]*len(x))]).T,\n",
    "        'label_length': np.array([np.array([10]*len(x))]).T,\n",
    "      }\n",
    "    outputs = {'ctc': np.zeros([len(x)])}\n",
    "    return inputs, outputs"
   ]
  },
  {
   "cell_type": "code",
   "execution_count": 10,
   "metadata": {
    "ExecuteTime": {
     "end_time": "2018-09-26T13:24:48.570322Z",
     "start_time": "2018-09-26T13:20:38.823391Z"
    },
    "colab": {
     "base_uri": "https://localhost:8080/",
     "height": 167
    },
    "colab_type": "code",
    "id": "WsNWQMduhiI8",
    "outputId": "34ed05c0-03cd-4363-8f39-931e5fce3fb7"
   },
   "outputs": [
    {
     "name": "stdout",
     "output_type": "stream",
     "text": [
      "CPU times: user 4min 7s, sys: 0 ns, total: 4min 7s\n",
      "Wall time: 4min 9s\n"
     ]
    },
    {
     "data": {
      "image/png": "[encoded data removed]",
      "text/plain": [
       "<matplotlib.figure.Figure at 0x7f5fdda4a048>"
      ]
     },
     "metadata": {},
     "output_type": "display_data"
    }
   ],
   "source": [
    "%%time\n",
    "%matplotlib inline\n",
    "import cv2\n",
    "\n",
    "bs = 32\n",
    "N = bs*120\n",
    "\n",
    "from keras.datasets import mnist\n",
    "(X_train, y_train), (X_test, y_test) = mnist.load_data()\n",
    "x, y, *_ = build_synth_data2(X_train, y_train, N)\n",
    "plt.imshow(x[10,...,0])"
   ]
  },
  {
   "cell_type": "code",
   "execution_count": 6,
   "metadata": {
    "code_folding": [
     0
    ],
    "colab": {
     "base_uri": "https://localhost:8080/",
     "height": 254
    },
    "colab_type": "code",
    "id": "9TEJ6WIu-zRo",
    "outputId": "a4bdd1c4-13bb-4c74-bf81-c58058d8ac16"
   },
   "outputs": [
    {
     "name": "stderr",
     "output_type": "stream",
     "text": [
      "/usr/local/lib/python3.6/dist-packages/scipy/misc/pilutil.py:482: FutureWarning: Conversion of the second argument of issubdtype from `int` to `np.signedinteger` is deprecated. In future, it will be treated as `np.int64 == np.dtype(int).type`.\n",
      "  if issubdtype(ts, int):\n",
      "/usr/local/lib/python3.6/dist-packages/scipy/misc/pilutil.py:485: FutureWarning: Conversion of the second argument of issubdtype from `float` to `np.floating` is deprecated. In future, it will be treated as `np.float64 == np.dtype(float).type`.\n",
      "  elif issubdtype(type(size), float):\n"
     ]
    },
    {
     "name": "stdout",
     "output_type": "stream",
     "text": [
      "CPU times: user 1.05 s, sys: 51.7 ms, total: 1.1 s\n",
      "Wall time: 1.1 s\n"
     ]
    },
    {
     "data": {
      "image/png": "[encoded data removed]",
      "text/plain": [
       "<matplotlib.figure.Figure at 0x7f5221d6c550>"
      ]
     },
     "metadata": {
      "tags": []
     },
     "output_type": "display_data"
    }
   ],
   "source": [
    "%%time\n",
    "import cv2\n",
    "\n",
    "bs = 32\n",
    "N = bs*20\n",
    "\n",
    "from keras.datasets import mnist\n",
    "(X_train, y_train), (X_test, y_test) = mnist.load_data()\n",
    "x_1, y_1, *_ = build_synth_data1(X_train, y_train, N)\n",
    "plt.imshow(x_1[10,...,0])"
   ]
  },
  {
   "cell_type": "code",
   "execution_count": 11,
   "metadata": {
    "ExecuteTime": {
     "end_time": "2018-09-26T13:39:27.877853Z",
     "start_time": "2018-09-26T13:25:32.160152Z"
    },
    "colab": {
     "base_uri": "https://localhost:8080/",
     "height": 1730
    },
    "colab_type": "code",
    "id": "4Pk7TuSkgi3v",
    "outputId": "a0201170-82f5-41a1-c7c1-1a2b419d4ba8"
   },
   "outputs": [
    {
     "name": "stdout",
     "output_type": "stream",
     "text": [
      "Train on 3456 samples, validate on 384 samples\n",
      "Epoch 1/50\n",
      " - 31s - loss: 18.3311 - val_loss: 13.7899\n",
      "Epoch 2/50\n",
      " - 24s - loss: 10.8836 - val_loss: 11.2874\n",
      "Epoch 3/50\n",
      " - 25s - loss: 9.2590 - val_loss: 10.2882\n",
      "Epoch 4/50\n",
      " - 25s - loss: 8.1768 - val_loss: 8.5081\n",
      "Epoch 5/50\n",
      " - 25s - loss: 7.5070 - val_loss: 8.2783\n",
      "Epoch 6/50\n",
      " - 25s - loss: 6.9400 - val_loss: 7.7319\n",
      "Epoch 7/50\n",
      " - 23s - loss: 6.5000 - val_loss: 7.4212\n",
      "Epoch 8/50\n",
      " - 25s - loss: 6.0530 - val_loss: 6.9566\n",
      "Epoch 9/50\n",
      " - 33s - loss: 5.6311 - val_loss: 7.4428\n",
      "Epoch 10/50\n",
      " - 30s - loss: 5.4926 - val_loss: 7.0517\n",
      "Epoch 11/50\n",
      " - 28s - loss: 5.1609 - val_loss: 6.6075\n",
      "Epoch 12/50\n",
      " - 26s - loss: 4.9038 - val_loss: 6.5336\n",
      "Epoch 13/50\n",
      " - 27s - loss: 4.6870 - val_loss: 6.0797\n",
      "Epoch 14/50\n",
      " - 28s - loss: 4.3207 - val_loss: 5.9098\n",
      "Epoch 15/50\n",
      " - 28s - loss: 4.1779 - val_loss: 5.8719\n",
      "Epoch 16/50\n",
      " - 29s - loss: 4.0179 - val_loss: 6.0010\n",
      "Epoch 17/50\n",
      " - 29s - loss: 3.8000 - val_loss: 5.6801\n",
      "Epoch 18/50\n",
      " - 25s - loss: 3.6663 - val_loss: 5.5507\n",
      "Epoch 19/50\n",
      " - 24s - loss: 3.5516 - val_loss: 5.3460\n",
      "Epoch 20/50\n",
      " - 25s - loss: 3.2428 - val_loss: 5.4880\n",
      "Epoch 21/50\n",
      " - 25s - loss: 3.0756 - val_loss: 4.9604\n",
      "Epoch 22/50\n",
      " - 24s - loss: 2.8504 - val_loss: 5.7144\n",
      "Epoch 23/50\n",
      " - 24s - loss: 2.8267 - val_loss: 5.0409\n",
      "Epoch 24/50\n",
      " - 24s - loss: 2.7003 - val_loss: 5.8007\n",
      "Epoch 25/50\n",
      " - 24s - loss: 2.6013 - val_loss: 5.5748\n",
      "Epoch 26/50\n",
      " - 25s - loss: 2.4545 - val_loss: 5.1842\n",
      "Epoch 27/50\n",
      " - 24s - loss: 2.2183 - val_loss: 5.7326\n",
      "Epoch 28/50\n",
      " - 24s - loss: 2.1196 - val_loss: 5.3469\n",
      "Epoch 29/50\n",
      " - 24s - loss: 1.9735 - val_loss: 5.7121\n",
      "Epoch 30/50\n",
      " - 24s - loss: 1.8326 - val_loss: 5.4374\n",
      "Epoch 31/50\n",
      " - 24s - loss: 1.8055 - val_loss: 5.7839\n",
      "Epoch 32/50\n",
      " - 26s - loss: 1.6761 - val_loss: 5.5671\n",
      "Epoch 33/50\n"
     ]
    },
    {
     "ename": "KeyboardInterrupt",
     "evalue": "",
     "output_type": "error",
     "traceback": [
      "\u001b[0;31m---------------------------------------------------------------------------\u001b[0m",
      "\u001b[0;31mKeyboardInterrupt\u001b[0m                         Traceback (most recent call last)",
      "\u001b[0;32m<ipython-input-11-82b74782f8c7>\u001b[0m in \u001b[0;36m<module>\u001b[0;34m()\u001b[0m\n\u001b[1;32m      2\u001b[0m \u001b[0mmodel\u001b[0m\u001b[0;34m.\u001b[0m\u001b[0mcompile\u001b[0m\u001b[0;34m(\u001b[0m\u001b[0mloss\u001b[0m\u001b[0;34m=\u001b[0m\u001b[0;34m{\u001b[0m\u001b[0;34m'ctc'\u001b[0m\u001b[0;34m:\u001b[0m \u001b[0;32mlambda\u001b[0m \u001b[0my_true\u001b[0m\u001b[0;34m,\u001b[0m \u001b[0my_pred\u001b[0m\u001b[0;34m:\u001b[0m \u001b[0my_pred\u001b[0m\u001b[0;34m}\u001b[0m\u001b[0;34m,\u001b[0m \u001b[0moptimizer\u001b[0m\u001b[0;34m=\u001b[0m\u001b[0mopt\u001b[0m\u001b[0;34m)\u001b[0m\u001b[0;34m\u001b[0m\u001b[0m\n\u001b[1;32m      3\u001b[0m \u001b[0;34m\u001b[0m\u001b[0m\n\u001b[0;32m----> 4\u001b[0;31m \u001b[0mmodel\u001b[0m\u001b[0;34m.\u001b[0m\u001b[0mfit\u001b[0m\u001b[0;34m(\u001b[0m\u001b[0;34m*\u001b[0m\u001b[0mdata\u001b[0m\u001b[0;34m(\u001b[0m\u001b[0mx\u001b[0m\u001b[0;34m,\u001b[0m \u001b[0my\u001b[0m\u001b[0;34m)\u001b[0m\u001b[0;34m,\u001b[0m \u001b[0mepochs\u001b[0m\u001b[0;34m=\u001b[0m\u001b[0;36m50\u001b[0m\u001b[0;34m,\u001b[0m \u001b[0mvalidation_split\u001b[0m\u001b[0;34m=\u001b[0m\u001b[0;36m0.1\u001b[0m\u001b[0;34m,\u001b[0m \u001b[0mverbose\u001b[0m\u001b[0;34m=\u001b[0m\u001b[0;36m2\u001b[0m\u001b[0;34m)\u001b[0m\u001b[0;34m\u001b[0m\u001b[0m\n\u001b[0m",
      "\u001b[0;32m/usr/share/anaconda3/lib/python3.6/site-packages/keras/engine/training.py\u001b[0m in \u001b[0;36mfit\u001b[0;34m(self, x, y, batch_size, epochs, verbose, callbacks, validation_split, validation_data, shuffle, class_weight, sample_weight, initial_epoch, steps_per_epoch, validation_steps, **kwargs)\u001b[0m\n\u001b[1;32m   1035\u001b[0m                                         \u001b[0minitial_epoch\u001b[0m\u001b[0;34m=\u001b[0m\u001b[0minitial_epoch\u001b[0m\u001b[0;34m,\u001b[0m\u001b[0;34m\u001b[0m\u001b[0m\n\u001b[1;32m   1036\u001b[0m                                         \u001b[0msteps_per_epoch\u001b[0m\u001b[0;34m=\u001b[0m\u001b[0msteps_per_epoch\u001b[0m\u001b[0;34m,\u001b[0m\u001b[0;34m\u001b[0m\u001b[0m\n\u001b[0;32m-> 1037\u001b[0;31m                                         validation_steps=validation_steps)\n\u001b[0m\u001b[1;32m   1038\u001b[0m \u001b[0;34m\u001b[0m\u001b[0m\n\u001b[1;32m   1039\u001b[0m     def evaluate(self, x=None, y=None,\n",
      "\u001b[0;32m/usr/share/anaconda3/lib/python3.6/site-packages/keras/engine/training_arrays.py\u001b[0m in \u001b[0;36mfit_loop\u001b[0;34m(model, f, ins, out_labels, batch_size, epochs, verbose, callbacks, val_f, val_ins, shuffle, callback_metrics, initial_epoch, steps_per_epoch, validation_steps)\u001b[0m\n\u001b[1;32m    197\u001b[0m                     \u001b[0mins_batch\u001b[0m\u001b[0;34m[\u001b[0m\u001b[0mi\u001b[0m\u001b[0;34m]\u001b[0m \u001b[0;34m=\u001b[0m \u001b[0mins_batch\u001b[0m\u001b[0;34m[\u001b[0m\u001b[0mi\u001b[0m\u001b[0;34m]\u001b[0m\u001b[0;34m.\u001b[0m\u001b[0mtoarray\u001b[0m\u001b[0;34m(\u001b[0m\u001b[0;34m)\u001b[0m\u001b[0;34m\u001b[0m\u001b[0m\n\u001b[1;32m    198\u001b[0m \u001b[0;34m\u001b[0m\u001b[0m\n\u001b[0;32m--> 199\u001b[0;31m                 \u001b[0mouts\u001b[0m \u001b[0;34m=\u001b[0m \u001b[0mf\u001b[0m\u001b[0;34m(\u001b[0m\u001b[0mins_batch\u001b[0m\u001b[0;34m)\u001b[0m\u001b[0;34m\u001b[0m\u001b[0m\n\u001b[0m\u001b[1;32m    200\u001b[0m                 \u001b[0mouts\u001b[0m \u001b[0;34m=\u001b[0m \u001b[0mto_list\u001b[0m\u001b[0;34m(\u001b[0m\u001b[0mouts\u001b[0m\u001b[0;34m)\u001b[0m\u001b[0;34m\u001b[0m\u001b[0m\n\u001b[1;32m    201\u001b[0m                 \u001b[0;32mfor\u001b[0m \u001b[0ml\u001b[0m\u001b[0;34m,\u001b[0m \u001b[0mo\u001b[0m \u001b[0;32min\u001b[0m \u001b[0mzip\u001b[0m\u001b[0;34m(\u001b[0m\u001b[0mout_labels\u001b[0m\u001b[0;34m,\u001b[0m \u001b[0mouts\u001b[0m\u001b[0;34m)\u001b[0m\u001b[0;34m:\u001b[0m\u001b[0;34m\u001b[0m\u001b[0m\n",
      "\u001b[0;32m/usr/share/anaconda3/lib/python3.6/site-packages/keras/backend/tensorflow_backend.py\u001b[0m in \u001b[0;36m__call__\u001b[0;34m(self, inputs)\u001b[0m\n\u001b[1;32m   2664\u001b[0m                 \u001b[0;32mreturn\u001b[0m \u001b[0mself\u001b[0m\u001b[0;34m.\u001b[0m\u001b[0m_legacy_call\u001b[0m\u001b[0;34m(\u001b[0m\u001b[0minputs\u001b[0m\u001b[0;34m)\u001b[0m\u001b[0;34m\u001b[0m\u001b[0m\n\u001b[1;32m   2665\u001b[0m \u001b[0;34m\u001b[0m\u001b[0m\n\u001b[0;32m-> 2666\u001b[0;31m             \u001b[0;32mreturn\u001b[0m \u001b[0mself\u001b[0m\u001b[0;34m.\u001b[0m\u001b[0m_call\u001b[0m\u001b[0;34m(\u001b[0m\u001b[0minputs\u001b[0m\u001b[0;34m)\u001b[0m\u001b[0;34m\u001b[0m\u001b[0m\n\u001b[0m\u001b[1;32m   2667\u001b[0m         \u001b[0;32melse\u001b[0m\u001b[0;34m:\u001b[0m\u001b[0;34m\u001b[0m\u001b[0m\n\u001b[1;32m   2668\u001b[0m             \u001b[0;32mif\u001b[0m \u001b[0mpy_any\u001b[0m\u001b[0;34m(\u001b[0m\u001b[0mis_tensor\u001b[0m\u001b[0;34m(\u001b[0m\u001b[0mx\u001b[0m\u001b[0;34m)\u001b[0m \u001b[0;32mfor\u001b[0m \u001b[0mx\u001b[0m \u001b[0;32min\u001b[0m \u001b[0minputs\u001b[0m\u001b[0;34m)\u001b[0m\u001b[0;34m:\u001b[0m\u001b[0;34m\u001b[0m\u001b[0m\n",
      "\u001b[0;32m/usr/share/anaconda3/lib/python3.6/site-packages/keras/backend/tensorflow_backend.py\u001b[0m in \u001b[0;36m_call\u001b[0;34m(self, inputs)\u001b[0m\n\u001b[1;32m   2634\u001b[0m                                 \u001b[0msymbol_vals\u001b[0m\u001b[0;34m,\u001b[0m\u001b[0;34m\u001b[0m\u001b[0m\n\u001b[1;32m   2635\u001b[0m                                 session)\n\u001b[0;32m-> 2636\u001b[0;31m         \u001b[0mfetched\u001b[0m \u001b[0;34m=\u001b[0m \u001b[0mself\u001b[0m\u001b[0;34m.\u001b[0m\u001b[0m_callable_fn\u001b[0m\u001b[0;34m(\u001b[0m\u001b[0;34m*\u001b[0m\u001b[0marray_vals\u001b[0m\u001b[0;34m)\u001b[0m\u001b[0;34m\u001b[0m\u001b[0m\n\u001b[0m\u001b[1;32m   2637\u001b[0m         \u001b[0;32mreturn\u001b[0m \u001b[0mfetched\u001b[0m\u001b[0;34m[\u001b[0m\u001b[0;34m:\u001b[0m\u001b[0mlen\u001b[0m\u001b[0;34m(\u001b[0m\u001b[0mself\u001b[0m\u001b[0;34m.\u001b[0m\u001b[0moutputs\u001b[0m\u001b[0;34m)\u001b[0m\u001b[0;34m]\u001b[0m\u001b[0;34m\u001b[0m\u001b[0m\n\u001b[1;32m   2638\u001b[0m \u001b[0;34m\u001b[0m\u001b[0m\n",
      "\u001b[0;32m/usr/share/anaconda3/lib/python3.6/site-packages/tensorflow/python/client/session.py\u001b[0m in \u001b[0;36m__call__\u001b[0;34m(self, *args, **kwargs)\u001b[0m\n\u001b[1;32m   1380\u001b[0m           ret = tf_session.TF_SessionRunCallable(\n\u001b[1;32m   1381\u001b[0m               \u001b[0mself\u001b[0m\u001b[0;34m.\u001b[0m\u001b[0m_session\u001b[0m\u001b[0;34m.\u001b[0m\u001b[0m_session\u001b[0m\u001b[0;34m,\u001b[0m \u001b[0mself\u001b[0m\u001b[0;34m.\u001b[0m\u001b[0m_handle\u001b[0m\u001b[0;34m,\u001b[0m \u001b[0margs\u001b[0m\u001b[0;34m,\u001b[0m \u001b[0mstatus\u001b[0m\u001b[0;34m,\u001b[0m\u001b[0;34m\u001b[0m\u001b[0m\n\u001b[0;32m-> 1382\u001b[0;31m               run_metadata_ptr)\n\u001b[0m\u001b[1;32m   1383\u001b[0m         \u001b[0;32mif\u001b[0m \u001b[0mrun_metadata\u001b[0m\u001b[0;34m:\u001b[0m\u001b[0;34m\u001b[0m\u001b[0m\n\u001b[1;32m   1384\u001b[0m           \u001b[0mproto_data\u001b[0m \u001b[0;34m=\u001b[0m \u001b[0mtf_session\u001b[0m\u001b[0;34m.\u001b[0m\u001b[0mTF_GetBuffer\u001b[0m\u001b[0;34m(\u001b[0m\u001b[0mrun_metadata_ptr\u001b[0m\u001b[0;34m)\u001b[0m\u001b[0;34m\u001b[0m\u001b[0m\n",
      "\u001b[0;31mKeyboardInterrupt\u001b[0m: "
     ]
    }
   ],
   "source": [
    "opt = Adam(lr=0.0002, decay=1e-6)\n",
    "model.compile(loss={'ctc': lambda y_true, y_pred: y_pred}, optimizer=opt)\n",
    "\n",
    "model.fit(*data(x, y), epochs=50, validation_split=0.1, verbose=2)"
   ]
  },
  {
   "cell_type": "code",
   "execution_count": 12,
   "metadata": {
    "ExecuteTime": {
     "end_time": "2018-09-26T13:39:31.352167Z",
     "start_time": "2018-09-26T13:39:31.324197Z"
    },
    "colab": {},
    "colab_type": "code",
    "collapsed": true,
    "id": "UqMHhrD24nwQ"
   },
   "outputs": [],
   "source": [
    "test_func = K.function([input_data], [y_pred])\n",
    "def decode_batch(test_func, word_batch):\n",
    "    out = test_func([word_batch])[0]\n",
    "    # print(out.shape)\n",
    "    ret = []\n",
    "    for j in range(out.shape[0]):\n",
    "        out_best = list(np.argmax(out[j, 2:], 1))\n",
    "        # print(out_best)\n",
    "        out_best = [k for k, g in itertools.groupby(out_best)]\n",
    "        outstr = labels_to_text(out_best)\n",
    "        ret.append(outstr)\n",
    "    return ret"
   ]
  },
  {
   "cell_type": "code",
   "execution_count": 13,
   "metadata": {
    "ExecuteTime": {
     "end_time": "2018-09-26T13:40:01.195163Z",
     "start_time": "2018-09-26T13:39:32.047416Z"
    },
    "colab": {
     "base_uri": "https://localhost:8080/",
     "height": 84
    },
    "colab_type": "code",
    "id": "rtbT3pSy1GKe",
    "outputId": "469af49a-c542-4d9f-fba1-da55a42ce9b2"
   },
   "outputs": [
    {
     "name": "stdout",
     "output_type": "stream",
     "text": [
      "Character accuracy: 70.300 %\n",
      "Word accuracy: 18.000 %\n",
      "CPU times: user 42.2 s, sys: 3.67 s, total: 45.9 s\n",
      "Wall time: 29.1 s\n"
     ]
    }
   ],
   "source": [
    "%%time\n",
    "w, ws, c, cs = 0,0,0,0 # correct-words, all-words, correct-characters, all-characters\n",
    "# (X_train, y_train), (X_test, y_test) = mnist.load_data()\n",
    "a, b, *_ = build_synth_data2(X_train, y_train, 200)\n",
    "\n",
    "for idx, dat in enumerate(zip(a, b)):\n",
    "    print('Batch', idx, end='\\r')\n",
    "    img, truth = dat[0], dat[1]\n",
    "    truth = ''.join(str(i) for i in truth)\n",
    "    pred = [i[:10] for i in decode_batch(test_func, [img.transpose(1,0,2)])][0]\n",
    "    w += pred==truth\n",
    "    ws += 1\n",
    "    \n",
    "    c += sum(sum(pred_c==truth_c for pred_c, truth_c in zip(p, t)) for p, t in zip(pred, truth))\n",
    "    cs += sum(len(t) for t in truth)\n",
    "    \n",
    "#     print(pred, truth)\n",
    "#     break\n",
    "    \n",
    "print(f'Character accuracy: {100*(c)/cs:.3f} %\\nWord accuracy: {100*(w)/ws:.3f} %')"
   ]
  },
  {
   "cell_type": "code",
   "execution_count": 14,
   "metadata": {
    "ExecuteTime": {
     "end_time": "2018-09-26T13:40:50.288154Z",
     "start_time": "2018-09-26T13:40:48.606961Z"
    },
    "collapsed": true
   },
   "outputs": [],
   "source": [
    "model.save_weights('1.wts')"
   ]
  },
  {
   "cell_type": "code",
   "execution_count": 277,
   "metadata": {
    "colab": {
     "base_uri": "https://localhost:8080/",
     "height": 34
    },
    "colab_type": "code",
    "id": "nOfKSoPs9Zz0",
    "outputId": "27cc388e-dddb-4c00-8072-50b336d1772f"
   },
   "outputs": [
    {
     "data": {
      "text/plain": [
       "(13, 200)"
      ]
     },
     "execution_count": 277,
     "metadata": {
      "tags": []
     },
     "output_type": "execute_result"
    }
   ],
   "source": [
    "# Character accuracy: 69.100 %\n",
    "# Word accuracy: 22.000 %\n",
    "# CPU times: user 12.9 s, sys: 1.39 s, total: 14.3 s\n",
    "# Wall time: 13.9 s"
   ]
  },
  {
   "cell_type": "code",
   "execution_count": 38,
   "metadata": {
    "colab": {
     "base_uri": "https://localhost:8080/",
     "height": 162
    },
    "colab_type": "code",
    "id": "Kh_S_1kv5XdD",
    "outputId": "6aa29426-49b8-41c9-8dfc-e4f8687fa6d4"
   },
   "outputs": [
    {
     "data": {
      "text/plain": [
       "Text(0.5,1,\"['5052349773']\")"
      ]
     },
     "execution_count": 38,
     "metadata": {
      "tags": []
     },
     "output_type": "execute_result"
    },
    {
     "data": {
      "image/png": "[encoded data removed]",
      "text/plain": [
       "<matplotlib.figure.Figure at 0x7f4163d68f98>"
      ]
     },
     "metadata": {
      "tags": []
     },
     "output_type": "display_data"
    }
   ],
   "source": [
    "N =2\n",
    "plt.imshow(a[N,:,:,0])\n",
    "plt.title(str([i[:10] for i in decode_batch(test_func, [a[N].transpose(1,0,2)])]))"
   ]
  },
  {
   "cell_type": "code",
   "execution_count": 60,
   "metadata": {
    "colab": {
     "base_uri": "https://localhost:8080/",
     "height": 605
    },
    "colab_type": "code",
    "id": "2HP55Q145cDO",
    "outputId": "84ad1d66-ba1b-407f-d1a1-c4afccdc9a88"
   },
   "outputs": [
    {
     "data": {
      "text/plain": [
       "[(2, (10, 0.9999995)),\n",
       " (3, (10, 0.99999976)),\n",
       " (4, (10, 0.9999813)),\n",
       " (5, (10, 0.9999747)),\n",
       " (6, (10, 0.9999931)),\n",
       " (7, (10, 0.9999895)),\n",
       " (8, (10, 0.99999976)),\n",
       " (9, (5, 0.9885324)),\n",
       " (10, (10, 0.99995327)),\n",
       " (11, (10, 0.99994934)),\n",
       " (12, (0, 0.98095185)),\n",
       " (13, (10, 0.9999664)),\n",
       " (14, (5, 0.3404038)),\n",
       " (15, (10, 0.99985564)),\n",
       " (16, (10, 0.99989235)),\n",
       " (17, (10, 0.99999976)),\n",
       " (18, (2, 0.9989365)),\n",
       " (19, (10, 0.99971694)),\n",
       " (20, (10, 0.9999999)),\n",
       " (21, (3, 0.98895544)),\n",
       " (22, (10, 0.9999651)),\n",
       " (23, (4, 0.9999943)),\n",
       " (24, (10, 0.9998957)),\n",
       " (25, (10, 0.9988709)),\n",
       " (26, (9, 0.79380566)),\n",
       " (27, (10, 0.99997973)),\n",
       " (28, (7, 0.99280035)),\n",
       " (29, (10, 0.9999784)),\n",
       " (30, (7, 0.9992281)),\n",
       " (31, (10, 0.99951684)),\n",
       " (32, (3, 0.99999416)),\n",
       " (33, (10, 0.9993973)),\n",
       " (34, (10, 0.9999937)),\n",
       " (35, (10, 0.9999995)),\n",
       " (36, (10, 0.9999982))]"
      ]
     },
     "execution_count": 60,
     "metadata": {
      "tags": []
     },
     "output_type": "execute_result"
    }
   ],
   "source": [
    "lzip = lambda a, b: list(zip(a, b))\n",
    "\n",
    "outs = lzip(test_func([[a[N].transpose(1,0,2)]])[0][0].argmax(-1),\n",
    "            test_func([[a[N].transpose(1,0,2)]])[0][0].max(-1))[2:]\n",
    "\n",
    "[(idx+2, i) for idx, i in enumerate(outs)]"
   ]
  },
  {
   "cell_type": "code",
   "execution_count": 55,
   "metadata": {
    "colab": {
     "base_uri": "https://localhost:8080/",
     "height": 34
    },
    "colab_type": "code",
    "id": "pkA3RCpFoecd",
    "outputId": "d3b63b7a-cf91-40c6-c1da-06c046d4e7e4"
   },
   "outputs": [
    {
     "data": {
      "text/plain": [
       "32.432432432432435"
      ]
     },
     "execution_count": 55,
     "metadata": {
      "tags": []
     },
     "output_type": "execute_result"
    }
   ],
   "source": [
    "150*8/37"
   ]
  },
  {
   "cell_type": "code",
   "execution_count": 58,
   "metadata": {
    "colab": {
     "base_uri": "https://localhost:8080/",
     "height": 34
    },
    "colab_type": "code",
    "id": "VdS7UR7qo-V2",
    "outputId": "a7d25284-0db9-4c03-9d97-89bd15ae5781"
   },
   "outputs": [
    {
     "data": {
      "text/plain": [
       "36.486486486486484"
      ]
     },
     "execution_count": 58,
     "metadata": {
      "tags": []
     },
     "output_type": "execute_result"
    }
   ],
   "source": [
    "150*9/37"
   ]
  },
  {
   "cell_type": "code",
   "execution_count": 0,
   "metadata": {
    "colab": {},
    "colab_type": "code",
    "collapsed": true,
    "id": "sGrSn4SZpSUy"
   },
   "outputs": [],
   "source": []
  }
 ],
 "metadata": {
  "accelerator": "GPU",
  "colab": {
   "collapsed_sections": [],
   "include_colab_link": true,
   "name": "Hello, Colaboratory",
   "provenance": [],
   "version": "0.3.2"
  },
  "kernelspec": {
   "display_name": "Python 3",
   "language": "python",
   "name": "python3"
  },
  "language_info": {
   "codemirror_mode": {
    "name": "ipython",
    "version": 3
   },
   "file_extension": ".py",
   "mimetype": "text/x-python",
   "name": "python",
   "nbconvert_exporter": "python",
   "pygments_lexer": "ipython3",
   "version": "3.6.2"
  },
  "toc": {
   "nav_menu": {},
   "number_sections": true,
   "sideBar": true,
   "skip_h1_title": true,
   "toc_cell": false,
   "toc_position": {},
   "toc_section_display": "block",
   "toc_window_display": false
  },
  "varInspector": {
   "cols": {
    "lenName": 16,
    "lenType": 16,
    "lenVar": 40
   },
   "kernels_config": {
    "python": {
     "delete_cmd_postfix": "",
     "delete_cmd_prefix": "del ",
     "library": "var_list.py",
     "varRefreshCmd": "print(var_dic_list())"
    },
    "r": {
     "delete_cmd_postfix": ") ",
     "delete_cmd_prefix": "rm(",
     "library": "var_list.r",
     "varRefreshCmd": "cat(var_dic_list()) "
    }
   },
   "types_to_exclude": [
    "module",
    "function",
    "builtin_function_or_method",
    "instance",
    "_Feature"
   ],
   "window_display": false
  }
 },
 "nbformat": 4,
 "nbformat_minor": 1
}
